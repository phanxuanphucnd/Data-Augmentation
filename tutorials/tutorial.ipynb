{
 "cells": [
  {
   "cell_type": "markdown",
   "id": "80365e5d",
   "metadata": {},
   "source": [
    "#### Note: restart runtime after this import before running the augmentations\n",
    "\n",
    "```\n",
    ">>> pip install dist/arizona-0.0.1-py3-none-any.whl\n",
    "```"
   ]
  },
  {
   "cell_type": "code",
   "execution_count": 1,
   "id": "de701a48",
   "metadata": {},
   "outputs": [
    {
     "data": {
      "text/plain": [
       "'v0.0.1'"
      ]
     },
     "execution_count": 1,
     "metadata": {},
     "output_type": "execute_result"
    }
   ],
   "source": [
    "import arizona\n",
    "\n",
    "arizona.__version__"
   ]
  },
  {
   "cell_type": "code",
   "execution_count": 3,
   "id": "adbf38fd",
   "metadata": {},
   "outputs": [
    {
     "name": "stdout",
     "output_type": "stream",
     "text": [
      "{'intent': ['faq_company',\n",
      "            'faq_company',\n",
      "            'faq_company',\n",
      "            'faq_company',\n",
      "            'faq_company'],\n",
      " 'tags': ['O O O B-work_unit I-word_unit I-work_unit',\n",
      "          'O O O B-work_unit I-word_unit I-work_unit',\n",
      "          'O O O B-work_unit I-word_unit I-work_unit',\n",
      "          'O O O B-work_unit I-word_unit I-work_unit',\n",
      "          'O O O B-work_unit I-word_unit I-work_unit'],\n",
      " 'text': ['giới thiệu veef công ty ftech',\n",
      "          'giowis thiệu về coong ty ftech',\n",
      "          'giới thiuệ về công ty ftech',\n",
      "          'giới thiệu ềv công ty ftech',\n",
      "          'giới thiệu fề công ty ftech']}\n"
     ]
    }
   ],
   "source": [
    "from arizona.textmentations.functions import keyboard_func\n",
    "\n",
    "text = \"giới thiệu về công ty ftech\"\n",
    "\n",
    "results = keyboard_func(\n",
    "    text,\n",
    "    num_samples=5,\n",
    "    intent='faq_company',\n",
    "    tags='O O O B-work_unit I-word_unit I-work_unit',\n",
    "    aug_char_percent=0.2,\n",
    "    aug_word_percent=0.1,\n",
    "    unikey_percent=0.5,\n",
    "    config_file='../configs/unikey.json',\n",
    ")\n",
    "\n",
    "from pprint import pprint\n",
    "pprint(results)"
   ]
  },
  {
   "cell_type": "code",
   "execution_count": 4,
   "id": "98e893fd",
   "metadata": {},
   "outputs": [
    {
     "name": "stdout",
     "output_type": "stream",
     "text": [
      "{'intent': ['faq_company',\n",
      "            'faq_company',\n",
      "            'faq_company',\n",
      "            'faq_company',\n",
      "            'faq_company'],\n",
      " 'tags': ['O O O B-work_unit I-word_unit I-work_unit',\n",
      "          'O O O B-work_unit I-word_unit I-work_unit',\n",
      "          'O O O B-work_unit I-word_unit I-work_unit',\n",
      "          'O O O B-work_unit I-word_unit I-work_unit',\n",
      "          'O O O B-work_unit I-word_unit I-work_unit'],\n",
      " 'text': ['giới thieu về công ty ftech',\n",
      "          'gioi thiệu ve cong ty ftech',\n",
      "          'gioi thieu về công ty ftech',\n",
      "          'giới thiệu ve công ty ftech',\n",
      "          'gioi thiệu ve cong ty ftech']}\n"
     ]
    }
   ],
   "source": [
    "from arizona.textmentations.functions import remove_accent_func\n",
    "\n",
    "text = 'giới thiệu về công ty ftech'\n",
    "\n",
    "results = remove_accent_func(\n",
    "    text,\n",
    "    num_samples=5,\n",
    "    intent='faq_company',\n",
    "    tags='O O O B-work_unit I-word_unit I-work_unit'\n",
    ")\n",
    "\n",
    "from pprint import pprint\n",
    "pprint(results)"
   ]
  },
  {
   "cell_type": "code",
   "execution_count": null,
   "id": "edf95ef4",
   "metadata": {},
   "outputs": [],
   "source": []
  }
 ],
 "metadata": {
  "kernelspec": {
   "display_name": "text",
   "language": "python",
   "name": "text"
  },
  "language_info": {
   "codemirror_mode": {
    "name": "ipython",
    "version": 3
   },
   "file_extension": ".py",
   "mimetype": "text/x-python",
   "name": "python",
   "nbconvert_exporter": "python",
   "pygments_lexer": "ipython3",
   "version": "3.7.1"
  }
 },
 "nbformat": 4,
 "nbformat_minor": 5
}
