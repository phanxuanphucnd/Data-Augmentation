{
 "cells": [
  {
   "cell_type": "markdown",
   "id": "80365e5d",
   "metadata": {},
   "source": [
    "#### Note: restart runtime after this import before running the augmentations\n",
    "\n",
    "```\n",
    ">>> pip install dist/arizona-0.0.1-py3-none-any.whl\n",
    "```"
   ]
  },
  {
   "cell_type": "code",
   "execution_count": 1,
   "id": "de701a48",
   "metadata": {},
   "outputs": [
    {
     "data": {
      "text/plain": [
       "'v0.0.1'"
      ]
     },
     "execution_count": 1,
     "metadata": {},
     "output_type": "execute_result"
    }
   ],
   "source": [
    "import arizona\n",
    "\n",
    "arizona.__version__"
   ]
  },
  {
   "cell_type": "markdown",
   "id": "a095481c",
   "metadata": {},
   "source": [
    "### Using by each input text"
   ]
  },
  {
   "cell_type": "code",
   "execution_count": 2,
   "id": "adbf38fd",
   "metadata": {},
   "outputs": [
    {
     "name": "stdout",
     "output_type": "stream",
     "text": [
      "{'intent': ['faq_company',\n",
      "            'faq_company',\n",
      "            'faq_company',\n",
      "            'faq_company',\n",
      "            'faq_company'],\n",
      " 'tags': ['O O O B-work_unit I-word_unit I-work_unit',\n",
      "          'O O O B-work_unit I-word_unit I-work_unit',\n",
      "          'O O O B-work_unit I-word_unit I-work_unit',\n",
      "          'O O O B-work_unit I-word_unit I-work_unit',\n",
      "          'O O O B-work_unit I-word_unit I-work_unit'],\n",
      " 'text': ['giới thieeuj veef coong ty ftech',\n",
      "          'giới thiệu về coong ty ftech',\n",
      "          'biới thiệu về công ty ftech',\n",
      "          'giới thiệu ềv công ty ftech',\n",
      "          'giới thiệu về ôcng ty ftech']}\n"
     ]
    }
   ],
   "source": [
    "from arizona.textmentations.functions import keyboard_func\n",
    "\n",
    "text = \"giới thiệu về công ty ftech\"\n",
    "\n",
    "results = keyboard_func(\n",
    "    text,\n",
    "    num_samples=5,\n",
    "    intent='faq_company',\n",
    "    tags='O O O B-work_unit I-word_unit I-work_unit',\n",
    "    aug_char_percent=0.2,\n",
    "    aug_word_percent=0.1,\n",
    "    unikey_percent=0.5,\n",
    "    config_file='../configs/unikey.json',\n",
    ")\n",
    "\n",
    "from pprint import pprint\n",
    "pprint(results)"
   ]
  },
  {
   "cell_type": "code",
   "execution_count": 3,
   "id": "98e893fd",
   "metadata": {},
   "outputs": [
    {
     "name": "stdout",
     "output_type": "stream",
     "text": [
      "{'intent': ['faq_company',\n",
      "            'faq_company',\n",
      "            'faq_company',\n",
      "            'faq_company',\n",
      "            'faq_company'],\n",
      " 'tags': ['O O O B-work_unit I-word_unit I-work_unit',\n",
      "          'O O O B-work_unit I-word_unit I-work_unit',\n",
      "          'O O O B-work_unit I-word_unit I-work_unit',\n",
      "          'O O O B-work_unit I-word_unit I-work_unit',\n",
      "          'O O O B-work_unit I-word_unit I-work_unit'],\n",
      " 'text': ['gioi thieu về công ty ftech',\n",
      "          'giới thieu về cong ty ftech',\n",
      "          'giới thiệu về công ty ftech',\n",
      "          'giới thiệu về cong ty ftech',\n",
      "          'giới thiệu ve công ty ftech']}\n"
     ]
    }
   ],
   "source": [
    "from arizona.textmentations.functions import remove_accent_func\n",
    "\n",
    "text = 'giới thiệu về công ty ftech'\n",
    "\n",
    "results = remove_accent_func(\n",
    "    text,\n",
    "    num_samples=5,\n",
    "    intent='faq_company',\n",
    "    tags='O O O B-work_unit I-word_unit I-work_unit'\n",
    ")\n",
    "\n",
    "from pprint import pprint\n",
    "pprint(results)"
   ]
  },
  {
   "cell_type": "code",
   "execution_count": 4,
   "id": "be4753ed",
   "metadata": {},
   "outputs": [
    {
     "name": "stdout",
     "output_type": "stream",
     "text": [
      "{'intent': ['faq_company',\n",
      "            'faq_company',\n",
      "            'faq_company',\n",
      "            'faq_company',\n",
      "            'faq_company',\n",
      "            'faq_company',\n",
      "            'faq_company',\n",
      "            'faq_company',\n",
      "            'faq_company',\n",
      "            'faq_company'],\n",
      " 'tags': ['O O B-work_unit I-work_unit',\n",
      "          'O O B-work_unit I-work_unit',\n",
      "          'O O B-work_unit I-word_unit I-work_unit',\n",
      "          'O O B-work_unit I-word_unit I-work_unit',\n",
      "          'O O B-work_unit I-work_unit',\n",
      "          'O O O B-work_unit I-work_unit',\n",
      "          'O O B-work_unit I-work_unit',\n",
      "          'O O B-work_unit I-work_unit',\n",
      "          'O O B-work_unit I-word_unit I-work_unit',\n",
      "          'O O B-work_unit I-word_unit I-work_unit'],\n",
      " 'text': ['gt về cty ftech',\n",
      "          'gthieu về cty ftech',\n",
      "          'gthieu về công ty ftech',\n",
      "          'gthieu về công ty ftech',\n",
      "          'gthieu về cty ftech',\n",
      "          'giới thiệu về cty ftech',\n",
      "          'gthieu về cty ftech',\n",
      "          'gthieu về cty ftech',\n",
      "          'gthieu về công ty ftech',\n",
      "          'gthieu về công ty ftech']}\n"
     ]
    }
   ],
   "source": [
    "from arizona.textmentations.functions import abbreviates_func\n",
    "\n",
    "text = \"giới thiệu về công ty ftech\"\n",
    "\n",
    "results = abbreviates_func(\n",
    "    text,\n",
    "    num_samples=10,\n",
    "    intent='faq_company',\n",
    "    tags='O O O B-work_unit I-word_unit I-work_unit',\n",
    "    config_file='../configs/abbreviations.json'\n",
    ")\n",
    "\n",
    "from pprint import pprint\n",
    "pprint(results)"
   ]
  },
  {
   "cell_type": "markdown",
   "id": "0af52f79",
   "metadata": {},
   "source": [
    "### Using by a .csv file"
   ]
  },
  {
   "cell_type": "code",
   "execution_count": 5,
   "id": "a7adc29b",
   "metadata": {},
   "outputs": [
    {
     "name": "stderr",
     "output_type": "stream",
     "text": [
      "100%|██████████████████████████████████████████████████████████████████████████████████████████████████████████████████████████████████████████████████████████████████████| 10/10 [00:05<00:00,  1.92it/s]\n"
     ]
    },
    {
     "data": {
      "text/html": [
       "<div>\n",
       "<style scoped>\n",
       "    .dataframe tbody tr th:only-of-type {\n",
       "        vertical-align: middle;\n",
       "    }\n",
       "\n",
       "    .dataframe tbody tr th {\n",
       "        vertical-align: top;\n",
       "    }\n",
       "\n",
       "    .dataframe thead th {\n",
       "        text-align: right;\n",
       "    }\n",
       "</style>\n",
       "<table border=\"1\" class=\"dataframe\">\n",
       "  <thead>\n",
       "    <tr style=\"text-align: right;\">\n",
       "      <th></th>\n",
       "      <th>text</th>\n",
       "      <th>intent</th>\n",
       "      <th>tags</th>\n",
       "    </tr>\n",
       "  </thead>\n",
       "  <tbody>\n",
       "    <tr>\n",
       "      <th>0</th>\n",
       "      <td>ban giới thieu qua công ty ftech di</td>\n",
       "      <td>faq_company</td>\n",
       "      <td>O O O O B-work_unit I-work_unit I-work_unit O</td>\n",
       "    </tr>\n",
       "    <tr>\n",
       "      <th>1</th>\n",
       "      <td>bạn gioi thieu qua công ty ftech di</td>\n",
       "      <td>faq_company</td>\n",
       "      <td>O O O O B-work_unit I-work_unit I-work_unit O</td>\n",
       "    </tr>\n",
       "    <tr>\n",
       "      <th>2</th>\n",
       "      <td>ban gioi thieu qua công ty ftech đi</td>\n",
       "      <td>faq_company</td>\n",
       "      <td>O O O O B-work_unit I-work_unit I-work_unit O</td>\n",
       "    </tr>\n",
       "    <tr>\n",
       "      <th>3</th>\n",
       "      <td>bạn gioi thiệu qua cong ty ftech di</td>\n",
       "      <td>faq_company</td>\n",
       "      <td>O O O O B-work_unit I-work_unit I-work_unit O</td>\n",
       "    </tr>\n",
       "    <tr>\n",
       "      <th>4</th>\n",
       "      <td>ban giới thieu qua cong ty ftech đi</td>\n",
       "      <td>faq_company</td>\n",
       "      <td>O O O O B-work_unit I-work_unit I-work_unit O</td>\n",
       "    </tr>\n",
       "    <tr>\n",
       "      <th>5</th>\n",
       "      <td>ban gioi thieu qua cong ty ftech đi</td>\n",
       "      <td>faq_company</td>\n",
       "      <td>O O O O B-work_unit I-work_unit I-work_unit O</td>\n",
       "    </tr>\n",
       "    <tr>\n",
       "      <th>7</th>\n",
       "      <td>bạn gthieu qua công ty ftech đii</td>\n",
       "      <td>faq_company</td>\n",
       "      <td>O O O B-work_unit I-work_unit I-work_unit O</td>\n",
       "    </tr>\n",
       "    <tr>\n",
       "      <th>8</th>\n",
       "      <td>bn giới thiệu qua công ty ftech đi</td>\n",
       "      <td>faq_company</td>\n",
       "      <td>O O O O B-work_unit I-work_unit I-work_unit O</td>\n",
       "    </tr>\n",
       "    <tr>\n",
       "      <th>10</th>\n",
       "      <td>b gth qua cty ftech dii</td>\n",
       "      <td>faq_company</td>\n",
       "      <td>O O O B-work_unit I-work_unit O</td>\n",
       "    </tr>\n",
       "    <tr>\n",
       "      <th>11</th>\n",
       "      <td>b gthieu qua công ty ftech đii</td>\n",
       "      <td>faq_company</td>\n",
       "      <td>O O O B-work_unit I-work_unit I-work_unit O</td>\n",
       "    </tr>\n",
       "  </tbody>\n",
       "</table>\n",
       "</div>"
      ],
      "text/plain": [
       "                                   text       intent  \\\n",
       "0   ban giới thieu qua công ty ftech di  faq_company   \n",
       "1   bạn gioi thieu qua công ty ftech di  faq_company   \n",
       "2   ban gioi thieu qua công ty ftech đi  faq_company   \n",
       "3   bạn gioi thiệu qua cong ty ftech di  faq_company   \n",
       "4   ban giới thieu qua cong ty ftech đi  faq_company   \n",
       "5   ban gioi thieu qua cong ty ftech đi  faq_company   \n",
       "7      bạn gthieu qua công ty ftech đii  faq_company   \n",
       "8    bn giới thiệu qua công ty ftech đi  faq_company   \n",
       "10              b gth qua cty ftech dii  faq_company   \n",
       "11       b gthieu qua công ty ftech đii  faq_company   \n",
       "\n",
       "                                             tags  \n",
       "0   O O O O B-work_unit I-work_unit I-work_unit O  \n",
       "1   O O O O B-work_unit I-work_unit I-work_unit O  \n",
       "2   O O O O B-work_unit I-work_unit I-work_unit O  \n",
       "3   O O O O B-work_unit I-work_unit I-work_unit O  \n",
       "4   O O O O B-work_unit I-work_unit I-work_unit O  \n",
       "5   O O O O B-work_unit I-work_unit I-work_unit O  \n",
       "7     O O O B-work_unit I-work_unit I-work_unit O  \n",
       "8   O O O O B-work_unit I-work_unit I-work_unit O  \n",
       "10                O O O B-work_unit I-work_unit O  \n",
       "11    O O O B-work_unit I-work_unit I-work_unit O  "
      ]
     },
     "execution_count": 5,
     "metadata": {},
     "output_type": "execute_result"
    }
   ],
   "source": [
    "from arizona.textmentations import TextAugmentation\n",
    "\n",
    "data_path = '../data/nlu.csv'\n",
    "\n",
    "text_augs = TextAugmentation(\n",
    "    data=data_path,\n",
    "    text_col='text',\n",
    "    intent_col='intent',\n",
    "    tags_col='tags'\n",
    ")\n",
    "\n",
    "df = text_augs.augment(\n",
    "    methods=['remove_accent', 'abbreviation', 'keyboard'],\n",
    "    without_origin_data=True,\n",
    "    write_file=False\n",
    ")\n",
    "\n",
    "df.head(10)"
   ]
  },
  {
   "cell_type": "code",
   "execution_count": null,
   "id": "316195fc",
   "metadata": {},
   "outputs": [],
   "source": []
  }
 ],
 "metadata": {
  "kernelspec": {
   "display_name": "text",
   "language": "python",
   "name": "text"
  },
  "language_info": {
   "codemirror_mode": {
    "name": "ipython",
    "version": 3
   },
   "file_extension": ".py",
   "mimetype": "text/x-python",
   "name": "python",
   "nbconvert_exporter": "python",
   "pygments_lexer": "ipython3",
   "version": "3.7.1"
  }
 },
 "nbformat": 4,
 "nbformat_minor": 5
}
